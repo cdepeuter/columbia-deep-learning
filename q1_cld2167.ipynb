{
 "cells": [
  {
   "cell_type": "code",
   "execution_count": 1,
   "metadata": {},
   "outputs": [],
   "source": [
    "import tensorflow as tf\n",
    "%matplotlib inline\n",
    "import matplotlib.pyplot as plt\n",
    "import numpy as np\n",
    "import scipy.misc\n",
    "import glob\n",
    "import sys\n",
    "UNI = \"cld2167\""
   ]
  },
  {
   "cell_type": "code",
   "execution_count": 2,
   "metadata": {},
   "outputs": [],
   "source": [
    "def get_img_array(path):\n",
    "    \"\"\"\n",
    "    Given path of image, returns it's numpy array\n",
    "    \"\"\"\n",
    "    return scipy.misc.imread(path)\n",
    "\n",
    "def get_files(folder):\n",
    "    \"\"\"\n",
    "    Given path to folder, returns list of files in it\n",
    "    \"\"\"\n",
    "    filenames = [file for file in glob.glob(folder+'*/*')]\n",
    "    filenames.sort()\n",
    "    return filenames\n",
    "\n",
    "def get_label(filepath, label2id):\n",
    "    \"\"\"\n",
    "    Files are assumed to be labeled as: /path/to/file/999_frog.png\n",
    "    Returns label for a filepath\n",
    "    \"\"\"\n",
    "    tokens = filepath.split('/')\n",
    "    label = tokens[-1].split('_')[1][:-4]\n",
    "    if label in label2id:\n",
    "        return label2id[label]\n",
    "    else:\n",
    "        sys.exit(\"Invalid label: \" + label)"
   ]
  },
  {
   "cell_type": "code",
   "execution_count": 3,
   "metadata": {},
   "outputs": [],
   "source": [
    "def get_labels(folder, label2id):\n",
    "    \"\"\"\n",
    "    Returns vector of labels extracted from filenames of all files in folder\n",
    "    :param folder: path to data folder\n",
    "    :param label2id: mapping of text labels to numeric ids. (Eg: automobile -> 0)\n",
    "    \"\"\"\n",
    "    files = get_files(folder)\n",
    "    y = []\n",
    "    for f in files:\n",
    "        y.append(get_label(f,label2id))\n",
    "    return np.array(y)\n",
    "\n",
    "def one_hot(y, num_classes=10):\n",
    "    \"\"\"\n",
    "    Converts each label index in y to vector with one_hot encoding\n",
    "    \"\"\"\n",
    "    y_one_hot = np.zeros((num_classes, y.shape[0]))\n",
    "    y_one_hot[y, range(y.shape[0])] = 1\n",
    "    return y_one_hot\n",
    "\n",
    "def get_label_mapping(label_file):\n",
    "    \"\"\"\n",
    "    Returns mappings of label to index and index to label\n",
    "    The input file has list of labels, each on a separate line.\n",
    "    \"\"\"\n",
    "    with open(label_file, 'r') as f:\n",
    "        id2label = f.readlines()\n",
    "        id2label = [l.strip().split(\"-\")[1] for l in id2label]\n",
    "    label2id = {}\n",
    "    count = 0\n",
    "    for label in id2label:\n",
    "        label2id[label] = count\n",
    "        count += 1\n",
    "    return id2label, label2id\n",
    "\n",
    "def get_images(folder):\n",
    "    \"\"\"\n",
    "    returns numpy array of all samples in folder\n",
    "    each column is a sample resized to 30x30 and flattened\n",
    "    \"\"\"\n",
    "    files = get_files(folder)\n",
    "    images = []\n",
    "    count = 0\n",
    "\n",
    "    for f in files:\n",
    "        count += 1\n",
    "        if count % 10000 == 0:\n",
    "            print(\"Loaded {}/{}\".format(count,len(files)))\n",
    "        img_arr = get_img_array(f)\n",
    "        img_arr = img_arr.flatten() / 255.0\n",
    "        images.append(img_arr)\n",
    "    X = np.column_stack(images)\n",
    "\n",
    "    return X\n",
    "\n",
    "def get_train_data(data_root_path):\n",
    "    \"\"\"\n",
    "    Return X and y\n",
    "    \"\"\"\n",
    "    train_data_path = data_root_path + 'train'\n",
    "    id2label, label2id = get_label_mapping(data_root_path+'labels.txt')\n",
    "    print(label2id)\n",
    "    X = get_images(train_data_path)\n",
    "    y = get_labels(train_data_path, label2id)\n",
    "    return X, y\n",
    "\n",
    "def save_predictions(filename, y):\n",
    "    \"\"\"\n",
    "    Dumps y into .npy file\n",
    "    \"\"\"\n",
    "    np.save(filename, y)"
   ]
  },
  {
   "cell_type": "code",
   "execution_count": 4,
   "metadata": {},
   "outputs": [
    {
     "name": "stdout",
     "output_type": "stream",
     "text": [
      "{'airplane': 0, 'automobile': 1, 'bird': 2, 'cat': 3, 'deer': 4, 'dog': 5, 'frog': 6, 'horse': 7, 'ship': 8, 'truck': 9}\n",
      "Loaded 10000/50000\n",
      "Loaded 20000/50000\n",
      "Loaded 30000/50000\n",
      "Loaded 40000/50000\n",
      "Loaded 50000/50000\n",
      "Loaded 10000/10000\n",
      "Data loading done\n"
     ]
    }
   ],
   "source": [
    "# Load the data\n",
    "data_root_path = 'cifar10-hw1/'\n",
    "X_train_total, y_train_total = get_train_data(data_root_path) # this may take a few minutes\n",
    "X_test = get_images(data_root_path + 'test')\n",
    "print('Data loading done')"
   ]
  },
  {
   "cell_type": "code",
   "execution_count": null,
   "metadata": {},
   "outputs": [],
   "source": []
  },
  {
   "cell_type": "code",
   "execution_count": 5,
   "metadata": {},
   "outputs": [],
   "source": [
    "# X_train=X_train_total[:,:45000]\n",
    "# X_val=X_train_total[:,45000:]\n",
    "# y_train=y_train_total[:45000]\n",
    "# y_val=y_train_total[45000:]\n",
    "\n",
    "## probably best to train on EVERYTHING\n",
    "\n",
    "\n",
    "X_train=X_train_total[:,:45000]\n",
    "X_val=X_train_total[:,45000:]\n",
    "y_train=y_train_total[:45000]\n",
    "y_val=y_train_total[45000:]"
   ]
  },
  {
   "cell_type": "code",
   "execution_count": 6,
   "metadata": {},
   "outputs": [
    {
     "name": "stdout",
     "output_type": "stream",
     "text": [
      "(45000,)\n",
      "(10, 45000)\n"
     ]
    }
   ],
   "source": [
    "def one_hot(y, num_classes=10):\n",
    "    \"\"\"\n",
    "    Converts each label index in y to vector with one_hot encoding\n",
    "    \"\"\"\n",
    "    y_one_hot = np.zeros((num_classes, y.shape[0]))\n",
    "    y_one_hot[y, range(y.shape[0])] = 1\n",
    "    return y_one_hot\n",
    "print(y_train.shape)\n",
    "y_train=one_hot(y_train)\n",
    "y_val=one_hot(y_val)\n",
    "print(y_train.shape)"
   ]
  },
  {
   "cell_type": "code",
   "execution_count": 7,
   "metadata": {},
   "outputs": [],
   "source": [
    "def get_batch(X_train,y_train,batch_size=100):\n",
    "    ix = np.random.choice(X_train.shape[1], batch_size, replace=True)\n",
    "    X_train_batch=X_train[:,ix]\n",
    "    y_train_batch=y_train[:,ix]\n",
    "    return X_train_batch.T,y_train_batch.T"
   ]
  },
  {
   "cell_type": "code",
   "execution_count": 8,
   "metadata": {},
   "outputs": [
    {
     "data": {
      "text/plain": [
       "(3072, 45000)"
      ]
     },
     "execution_count": 8,
     "metadata": {},
     "output_type": "execute_result"
    }
   ],
   "source": [
    "X_train.shape"
   ]
  },
  {
   "cell_type": "code",
   "execution_count": 9,
   "metadata": {},
   "outputs": [],
   "source": [
    "def weight_variable(shape, name):\n",
    "  initial = tf.truncated_normal(shape, stddev=0.1)\n",
    "  return tf.Variable(initial, name=name)\n",
    "\n",
    "def bias_variable(shape):\n",
    "  initial = tf.constant(0.1, shape=shape)\n",
    "  return tf.Variable(initial)"
   ]
  },
  {
   "cell_type": "code",
   "execution_count": 10,
   "metadata": {},
   "outputs": [],
   "source": [
    "def conv2d(x, W):\n",
    "  return tf.nn.conv2d(x, W, strides=[1, 1, 1, 1], padding='SAME')\n",
    "\n",
    "def max_pool_2x2(x):\n",
    "  return tf.nn.max_pool(x, ksize=[1, 2, 2, 1],\n",
    "                        strides=[1, 2, 2, 1], padding='SAME')"
   ]
  },
  {
   "cell_type": "code",
   "execution_count": null,
   "metadata": {},
   "outputs": [],
   "source": []
  },
  {
   "cell_type": "code",
   "execution_count": null,
   "metadata": {},
   "outputs": [
    {
     "name": "stdout",
     "output_type": "stream",
     "text": [
      "step 0, training accuracy 0.120000, loss 6.011775\n",
      "test accuracy 0.104\n",
      "step 100, training accuracy 0.110000, loss 3.514929\n",
      "test accuracy 0.0926\n",
      "step 200, training accuracy 0.240000, loss 2.448287\n"
     ]
    }
   ],
   "source": [
    "#first conv layer\n",
    "\n",
    "\n",
    "CONV_1_DEPTH = 64\n",
    "CONV_1_SIZE = 7\n",
    "CONV_2_DEPTH = 32\n",
    "CONV_2_SIZE = 5\n",
    "CONV_3_DEPTH = 16\n",
    "CONV_3_SIZE = 5\n",
    "CONV_4_DEPTH = 16\n",
    "CONV_4_SIZE = 5\n",
    "epsilon = 1e-3\n",
    "FULLY_CONNECTED_SIZE = 1024\n",
    "\n",
    "x = tf.placeholder(tf.float32, shape=[None, 3072], name=\"init_x\")\n",
    "y_ = tf.placeholder(tf.float32, shape=[None, 10], name=\"init_y\")\n",
    "\n",
    "W_conv1 = weight_variable([CONV_1_SIZE, CONV_1_SIZE, 3, CONV_1_DEPTH], name=\"conv_1_weights\")\n",
    "b_conv1 = bias_variable([CONV_1_DEPTH])\n",
    "#x_image = tf.reshape(x, [-1, 28, 28, 1])\n",
    "\n",
    "\n",
    "x_image = tf.reshape(x, [-1, 32, 32, 3])\n",
    "conv_1 = conv2d(x_image, W_conv1) + b_conv1\n",
    "\n",
    "batch_mean1, batch_var1 = tf.nn.moments(conv_1,[0])\n",
    "scale1 = tf.Variable(tf.ones([CONV_1_DEPTH]))\n",
    "beta1 = tf.Variable(tf.zeros([CONV_1_DEPTH]))\n",
    "batch1 = tf.nn.batch_normalization(conv_1,batch_mean1,batch_var1,beta1,scale1,epsilon)\n",
    "\n",
    "h_conv1 = tf.nn.relu(batch1)\n",
    "h_pool1 = max_pool_2x2(h_conv1)\n",
    "\n",
    "#second conv layer\n",
    "W_conv2 = weight_variable([CONV_2_SIZE, CONV_2_SIZE, CONV_1_DEPTH, CONV_2_DEPTH], name=\"conv_2_weights\")\n",
    "b_conv2 = bias_variable([CONV_2_DEPTH])\n",
    "conv_2 = conv2d(h_pool1, W_conv2) + b_conv2\n",
    "\n",
    "batch_mean2, batch_var2 = tf.nn.moments(conv_2,[0])\n",
    "scale2 = tf.Variable(tf.ones([CONV_2_DEPTH]))\n",
    "beta2 = tf.Variable(tf.zeros([CONV_2_DEPTH]))\n",
    "batch2 = tf.nn.batch_normalization(conv_2,batch_mean2,batch_var2,beta2,scale2,epsilon)\n",
    "\n",
    "h_conv2 = tf.nn.relu(batch2)\n",
    "h_pool2 = max_pool_2x2(h_conv2)\n",
    "\n",
    "\n",
    "\n",
    "#third conv layer\n",
    "W_conv3 = weight_variable([CONV_3_SIZE, CONV_3_SIZE, CONV_2_DEPTH, CONV_3_DEPTH], name=\"conv_3_weights\")\n",
    "b_conv3 = bias_variable([CONV_3_DEPTH])\n",
    "conv_3 = conv2d(h_pool2, W_conv3) + b_conv3\n",
    "\n",
    "batch_mean3, batch_var3 = tf.nn.moments(conv_3,[0])\n",
    "scale3 = tf.Variable(tf.ones([CONV_3_DEPTH]))\n",
    "beta3 = tf.Variable(tf.zeros([CONV_3_DEPTH]))\n",
    "batch3 = tf.nn.batch_normalization(conv_3,batch_mean3,batch_var3,beta3,scale3,epsilon)\n",
    "\n",
    "h_conv3 = tf.nn.relu(batch3)\n",
    "h_pool3 = max_pool_2x2(h_conv3)\n",
    "\n",
    "\n",
    "#fourth conv layer\n",
    "W_conv4 = weight_variable([CONV_4_SIZE, CONV_4_SIZE, CONV_3_DEPTH, CONV_4_DEPTH], name=\"conv_4_weights\")\n",
    "b_conv4 = bias_variable([CONV_4_DEPTH])\n",
    "conv_4 = conv2d(h_pool3, W_conv4) + b_conv4\n",
    "\n",
    "batch_mean4, batch_var4 = tf.nn.moments(conv_4,[0])\n",
    "scale4 = tf.Variable(tf.ones([CONV_4_DEPTH]))\n",
    "beta4 = tf.Variable(tf.zeros([CONV_4_DEPTH]))\n",
    "batch4 = tf.nn.batch_normalization(conv_4,batch_mean4,batch_var4,beta4,scale4,epsilon)\n",
    "\n",
    "h_conv4 = tf.nn.relu(batch4)\n",
    "h_pool4 = max_pool_2x2(h_conv4)\n",
    "\n",
    "\n",
    "#dense layer\n",
    "W_fc1 = weight_variable([2 * 2 * CONV_4_DEPTH, FULLY_CONNECTED_SIZE], name=\"first_fc\")\n",
    "b_fc1 = bias_variable([FULLY_CONNECTED_SIZE])\n",
    "\n",
    "h_pool4_flat = tf.reshape(h_pool4, [-1, 2*2*CONV_4_DEPTH])\n",
    "h_fc1 = tf.nn.relu(tf.matmul(h_pool4_flat, W_fc1) + b_fc1)\n",
    "\n",
    "\n",
    "#readout\n",
    "W_fc2 = weight_variable([FULLY_CONNECTED_SIZE, 10], name=\"last_fc\")\n",
    "b_fc2 = bias_variable([10])\n",
    "\n",
    "y_conv = tf.matmul(h_fc1, W_fc2) + b_fc2\n",
    "\n",
    "beta = 0.01\n",
    "softmax = tf.nn.softmax_cross_entropy_with_logits(labels=y_, logits=y_conv)\n",
    "cross_entropy = tf.reduce_mean(softmax)\n",
    "\n",
    "# l2 regularization\n",
    "regularizer = tf.nn.l2_loss(W_fc2) + tf.nn.l2_loss(W_fc1)\n",
    "loss = cross_entropy + beta * regularizer\n",
    "#tf.summary.scalar(\"loss\", loss)\n",
    "#train_step = tf.train.AdamOptimizer(1e-4).minimize(cross_entropy)\n",
    "train_step = tf.train.GradientDescentOptimizer(.5).minimize(loss)\n",
    "correct_prediction = tf.equal(tf.argmax(y_conv, 1), tf.argmax(y_, 1))\n",
    "accuracy = tf.reduce_mean(tf.cast(correct_prediction, tf.float32))\n",
    "\n",
    "#tf.summary.scalar(\"accuracy\", accuracy)\n",
    "\n",
    "# merge all summaries into a single \"operation\" which we can execute in a session \n",
    "#summary_op = tf.merge_all_summaries()\n",
    "\n",
    "with tf.Session() as sess:\n",
    "    #sess = tf_debug.LocalCLIDebugWrapperSession(sess)\n",
    "    sess.run(tf.global_variables_initializer())\n",
    "    #writer = tf.summary.FileWriter(\"output\", sess.graph)\n",
    "    for i in range(10000):\n",
    "        batch_x,batch_y = get_batch(X_train,y_train,batch_size=100)\n",
    "        #train_step.run(feed_dict={x: batch_x, y_: batch_y})\n",
    "        \n",
    "        train, train_accuracy, train_loss = sess.run([ train_step, accuracy,loss], feed_dict={x: batch_x, y_: batch_y})\n",
    "        \n",
    "        # write log\n",
    "        #writer.add_summary(summary, i)\n",
    "        if i % 100 == 0:\n",
    "            #train_accuracy = accuracy.eval(feed_dict={x: batch_x, y_: batch_y})\n",
    "            print('step %d, training accuracy %f, loss %f' % (i, train_accuracy, train_loss))\n",
    "            print('test accuracy %g' % accuracy.eval(feed_dict={x: X_val.T, y_: y_val.T}))\n",
    "    \n",
    "    # network trained, now make predictions on the test set\n",
    "    prediction = tf.argmax(y_conv,1)\n",
    "    preds = softmax.eval(feed_dict={x: X_test.T})\n",
    "    print(preds.shape)\n",
    "    np.save(\"hw2_ans1_\" + UNI + \".npy\",preds)\n",
    "    "
   ]
  },
  {
   "cell_type": "code",
   "execution_count": null,
   "metadata": {},
   "outputs": [],
   "source": [
    "preds"
   ]
  },
  {
   "cell_type": "code",
   "execution_count": null,
   "metadata": {},
   "outputs": [],
   "source": [
    "np.save(\"hw2_ans1_\" + UNI + \".npy\", y_conv.eval())"
   ]
  },
  {
   "cell_type": "code",
   "execution_count": null,
   "metadata": {},
   "outputs": [],
   "source": [
    "y_conv.shape"
   ]
  },
  {
   "cell_type": "code",
   "execution_count": null,
   "metadata": {},
   "outputs": [],
   "source": []
  }
 ],
 "metadata": {
  "kernelspec": {
   "display_name": "Python 3",
   "language": "python",
   "name": "python3"
  },
  "language_info": {
   "codemirror_mode": {
    "name": "ipython",
    "version": 3
   },
   "file_extension": ".py",
   "mimetype": "text/x-python",
   "name": "python",
   "nbconvert_exporter": "python",
   "pygments_lexer": "ipython3",
   "version": "3.6.2"
  }
 },
 "nbformat": 4,
 "nbformat_minor": 2
}
